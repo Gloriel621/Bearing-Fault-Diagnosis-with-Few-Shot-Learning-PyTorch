{
 "cells": [
  {
   "cell_type": "code",
   "execution_count": 1,
   "metadata": {},
   "outputs": [],
   "source": [
    "import numpy as np\n",
    "import torch\n",
    "from torch.utils.data import DataLoader\n",
    "from torchsummary import summary\n",
    "\n",
    "from dataset import CWRUDataset\n",
    "from models import SiameseNet, SiameseNet2\n",
    "from configs import window_size"
   ]
  },
  {
   "cell_type": "code",
   "execution_count": 2,
   "metadata": {},
   "outputs": [
    {
     "name": "stdout",
     "output_type": "stream",
     "text": [
      "loading dataset..\n",
      "datasets from 29 file(s) loaded.\n"
     ]
    }
   ],
   "source": [
    "exp_list = ['12DriveEndFault']\n",
    "rpm_list = ['1772', '1750', '1730']\n",
    "\n",
    "dataset = CWRUDataset(exp_list, rpm_list, window_size)\n",
    "\n",
    "model = SiameseNet()\n",
    "if torch.cuda.is_available():\n",
    "    model = model.to('cuda')\n",
    "else:\n",
    "    model = model.to('cpu')\n",
    "\n",
    "# summary(model, torch.zeros((32, 2, 2048)), torch.zeros((32, 2, 2048)))"
   ]
  },
  {
   "cell_type": "code",
   "execution_count": 3,
   "metadata": {},
   "outputs": [],
   "source": [
    "train_size = int(0.6 * len(dataset))\n",
    "val_size = int(0.2 * len(dataset))\n",
    "test_size = len(dataset) - train_size - val_size\n",
    "\n",
    "train_dataset, val_dataset, test_dataset = torch.utils.data.random_split(dataset, [train_size, val_size, test_size])"
   ]
  },
  {
   "cell_type": "code",
   "execution_count": 4,
   "metadata": {},
   "outputs": [],
   "source": [
    "from train import siamese_trainer\n",
    "from configs import batch_size, learning_rate, n_iter\n",
    "device = torch.device('cuda' if torch.cuda.is_available() else 'cpu')\n",
    "\n",
    "batch_size = 64"
   ]
  },
  {
   "cell_type": "code",
   "execution_count": 5,
   "metadata": {},
   "outputs": [],
   "source": [
    "trainer = siamese_trainer(model, train_dataset, val_dataset, batch_size, learning_rate, n_iter, device)"
   ]
  },
  {
   "cell_type": "code",
   "execution_count": 6,
   "metadata": {},
   "outputs": [
    {
     "name": "stdout",
     "output_type": "stream",
     "text": [
      "256 460 0.5565217391304348\n",
      "Epoch [1/1500], Training Loss: 0.6928, Validation Loss: 0.6883, Accuracy: 55.65%\n",
      "Validation loss decreased from inf to 0.6883. Saving model...\n",
      "260 460 0.5652173913043478\n",
      "Epoch [11/1500], Training Loss: 0.4756, Validation Loss: 0.5170, Accuracy: 56.52%\n",
      "263 460 0.5717391304347826\n",
      "Epoch [21/1500], Training Loss: 0.4634, Validation Loss: 0.5378, Accuracy: 57.17%\n",
      "266 460 0.5782608695652174\n",
      "Epoch [31/1500], Training Loss: 0.3925, Validation Loss: 0.4318, Accuracy: 57.83%\n",
      "Validation loss decreased from 0.4587 to 0.4318. Saving model...\n",
      "356 460 0.7739130434782608\n",
      "Epoch [41/1500], Training Loss: 0.3497, Validation Loss: 0.4679, Accuracy: 77.39%\n",
      "412 460 0.8956521739130435\n",
      "Epoch [51/1500], Training Loss: 0.3428, Validation Loss: 0.3685, Accuracy: 89.57%\n",
      "410 460 0.8913043478260869\n",
      "Epoch [61/1500], Training Loss: 0.3060, Validation Loss: 0.3537, Accuracy: 89.13%\n",
      "430 460 0.9347826086956522\n",
      "Epoch [71/1500], Training Loss: 0.2864, Validation Loss: 0.2883, Accuracy: 93.48%\n",
      "Validation loss decreased from 0.3034 to 0.2883. Saving model...\n",
      "415 460 0.9021739130434783\n",
      "Epoch [81/1500], Training Loss: 0.2606, Validation Loss: 0.3036, Accuracy: 90.22%\n",
      "407 460 0.8847826086956522\n",
      "Epoch [91/1500], Training Loss: 0.2512, Validation Loss: 0.3105, Accuracy: 88.48%\n",
      "422 460 0.9173913043478261\n",
      "Epoch [101/1500], Training Loss: 0.2560, Validation Loss: 0.2675, Accuracy: 91.74%\n",
      "419 460 0.9108695652173913\n",
      "Epoch [111/1500], Training Loss: 0.2172, Validation Loss: 0.2570, Accuracy: 91.09%\n",
      "409 460 0.8891304347826087\n",
      "Epoch [121/1500], Training Loss: 0.2281, Validation Loss: 0.3107, Accuracy: 88.91%\n",
      "393 460 0.8543478260869565\n",
      "Epoch [131/1500], Training Loss: 0.2142, Validation Loss: 0.5169, Accuracy: 85.43%\n",
      "427 460 0.9282608695652174\n",
      "Epoch [141/1500], Training Loss: 0.1915, Validation Loss: 0.2275, Accuracy: 92.83%\n",
      "438 460 0.9521739130434783\n",
      "Epoch [151/1500], Training Loss: 0.1803, Validation Loss: 0.2027, Accuracy: 95.22%\n",
      "427 460 0.9282608695652174\n",
      "Epoch [161/1500], Training Loss: 0.1756, Validation Loss: 0.2790, Accuracy: 92.83%\n",
      "439 460 0.9543478260869566\n",
      "Epoch [171/1500], Training Loss: 0.1345, Validation Loss: 0.1424, Accuracy: 95.43%\n",
      "Validation loss decreased from 0.1455 to 0.1424. Saving model...\n",
      "436 460 0.9478260869565217\n",
      "Epoch [181/1500], Training Loss: 0.1122, Validation Loss: 0.1402, Accuracy: 94.78%\n",
      "442 460 0.9608695652173913\n",
      "Epoch [191/1500], Training Loss: 0.1139, Validation Loss: 0.1219, Accuracy: 96.09%\n",
      "447 460 0.9717391304347827\n",
      "Epoch [201/1500], Training Loss: 0.1200, Validation Loss: 0.1043, Accuracy: 97.17%\n",
      "440 460 0.9565217391304348\n",
      "Epoch [211/1500], Training Loss: 0.0879, Validation Loss: 0.1558, Accuracy: 95.65%\n",
      "441 460 0.9586956521739131\n",
      "Epoch [221/1500], Training Loss: 0.0918, Validation Loss: 0.1635, Accuracy: 95.87%\n",
      "441 460 0.9586956521739131\n",
      "Epoch [231/1500], Training Loss: 0.0696, Validation Loss: 0.1151, Accuracy: 95.87%\n",
      "452 460 0.9826086956521739\n",
      "Epoch [241/1500], Training Loss: 0.0952, Validation Loss: 0.0690, Accuracy: 98.26%\n",
      "450 460 0.9782608695652174\n",
      "Epoch [251/1500], Training Loss: 0.0679, Validation Loss: 0.0823, Accuracy: 97.83%\n",
      "445 460 0.967391304347826\n",
      "Epoch [261/1500], Training Loss: 0.0575, Validation Loss: 0.0994, Accuracy: 96.74%\n",
      "445 460 0.967391304347826\n",
      "Epoch [271/1500], Training Loss: 0.0492, Validation Loss: 0.1189, Accuracy: 96.74%\n",
      "449 460 0.9760869565217392\n",
      "Epoch [281/1500], Training Loss: 0.0446, Validation Loss: 0.0889, Accuracy: 97.61%\n",
      "455 460 0.9891304347826086\n",
      "Epoch [291/1500], Training Loss: 0.0392, Validation Loss: 0.0479, Accuracy: 98.91%\n",
      "449 460 0.9760869565217392\n",
      "Epoch [301/1500], Training Loss: 0.0616, Validation Loss: 0.0948, Accuracy: 97.61%\n",
      "448 460 0.9739130434782609\n",
      "Epoch [311/1500], Training Loss: 0.0308, Validation Loss: 0.0974, Accuracy: 97.39%\n",
      "453 460 0.9847826086956522\n",
      "Epoch [321/1500], Training Loss: 0.0430, Validation Loss: 0.1036, Accuracy: 98.48%\n",
      "443 460 0.9630434782608696\n",
      "Epoch [331/1500], Training Loss: 0.0596, Validation Loss: 0.0800, Accuracy: 96.30%\n",
      "453 460 0.9847826086956522\n",
      "Epoch [341/1500], Training Loss: 0.0397, Validation Loss: 0.0564, Accuracy: 98.48%\n",
      "453 460 0.9847826086956522\n",
      "Epoch [351/1500], Training Loss: 0.0305, Validation Loss: 0.0472, Accuracy: 98.48%\n",
      "455 460 0.9891304347826086\n",
      "Epoch [361/1500], Training Loss: 0.0556, Validation Loss: 0.0407, Accuracy: 98.91%\n",
      "456 460 0.991304347826087\n",
      "Epoch [371/1500], Training Loss: 0.0271, Validation Loss: 0.0306, Accuracy: 99.13%\n",
      "443 460 0.9630434782608696\n",
      "Epoch [381/1500], Training Loss: 0.0276, Validation Loss: 0.1330, Accuracy: 96.30%\n",
      "453 460 0.9847826086956522\n",
      "Epoch [391/1500], Training Loss: 0.0153, Validation Loss: 0.0378, Accuracy: 98.48%\n",
      "455 460 0.9891304347826086\n",
      "Epoch [401/1500], Training Loss: 0.0318, Validation Loss: 0.0435, Accuracy: 98.91%\n",
      "454 460 0.9869565217391304\n",
      "Epoch [411/1500], Training Loss: 0.0298, Validation Loss: 0.0416, Accuracy: 98.70%\n",
      "453 460 0.9847826086956522\n",
      "Epoch [421/1500], Training Loss: 0.0235, Validation Loss: 0.0432, Accuracy: 98.48%\n",
      "453 460 0.9847826086956522\n",
      "Epoch [431/1500], Training Loss: 0.0237, Validation Loss: 0.0415, Accuracy: 98.48%\n",
      "457 460 0.9934782608695653\n",
      "Epoch [441/1500], Training Loss: 0.0164, Validation Loss: 0.0208, Accuracy: 99.35%\n",
      "452 460 0.9826086956521739\n",
      "Epoch [451/1500], Training Loss: 0.0161, Validation Loss: 0.0487, Accuracy: 98.26%\n",
      "457 460 0.9934782608695653\n",
      "Epoch [461/1500], Training Loss: 0.0191, Validation Loss: 0.0194, Accuracy: 99.35%\n",
      "453 460 0.9847826086956522\n",
      "Epoch [471/1500], Training Loss: 0.0150, Validation Loss: 0.0784, Accuracy: 98.48%\n",
      "456 460 0.991304347826087\n",
      "Epoch [481/1500], Training Loss: 0.0175, Validation Loss: 0.0271, Accuracy: 99.13%\n",
      "453 460 0.9847826086956522\n",
      "Epoch [491/1500], Training Loss: 0.0217, Validation Loss: 0.0372, Accuracy: 98.48%\n",
      "454 460 0.9869565217391304\n",
      "Epoch [501/1500], Training Loss: 0.0200, Validation Loss: 0.0498, Accuracy: 98.70%\n",
      "457 460 0.9934782608695653\n",
      "Epoch [511/1500], Training Loss: 0.0125, Validation Loss: 0.0313, Accuracy: 99.35%\n",
      "457 460 0.9934782608695653\n",
      "Epoch [521/1500], Training Loss: 0.0295, Validation Loss: 0.0227, Accuracy: 99.35%\n",
      "456 460 0.991304347826087\n",
      "Epoch [531/1500], Training Loss: 0.0101, Validation Loss: 0.0196, Accuracy: 99.13%\n",
      "453 460 0.9847826086956522\n",
      "Epoch [541/1500], Training Loss: 0.0140, Validation Loss: 0.0359, Accuracy: 98.48%\n",
      "454 460 0.9869565217391304\n",
      "Epoch [551/1500], Training Loss: 0.0224, Validation Loss: 0.0314, Accuracy: 98.70%\n",
      "456 460 0.991304347826087\n",
      "Epoch [561/1500], Training Loss: 0.0098, Validation Loss: 0.0453, Accuracy: 99.13%\n",
      "450 460 0.9782608695652174\n",
      "Epoch [571/1500], Training Loss: 0.0227, Validation Loss: 0.0718, Accuracy: 97.83%\n",
      "459 460 0.9978260869565218\n",
      "Epoch [581/1500], Training Loss: 0.0098, Validation Loss: 0.0135, Accuracy: 99.78%\n",
      "454 460 0.9869565217391304\n",
      "Epoch [591/1500], Training Loss: 0.0348, Validation Loss: 0.0430, Accuracy: 98.70%\n",
      "458 460 0.9956521739130435\n",
      "Epoch [601/1500], Training Loss: 0.0174, Validation Loss: 0.0143, Accuracy: 99.57%\n",
      "458 460 0.9956521739130435\n",
      "Epoch [611/1500], Training Loss: 0.0344, Validation Loss: 0.0180, Accuracy: 99.57%\n",
      "457 460 0.9934782608695653\n",
      "Epoch [621/1500], Training Loss: 0.0150, Validation Loss: 0.0132, Accuracy: 99.35%\n",
      "459 460 0.9978260869565218\n",
      "Epoch [631/1500], Training Loss: 0.0090, Validation Loss: 0.0087, Accuracy: 99.78%\n",
      "456 460 0.991304347826087\n",
      "Epoch [641/1500], Training Loss: 0.0082, Validation Loss: 0.0272, Accuracy: 99.13%\n",
      "455 460 0.9891304347826086\n",
      "Epoch [651/1500], Training Loss: 0.0128, Validation Loss: 0.0267, Accuracy: 98.91%\n",
      "459 460 0.9978260869565218\n",
      "Epoch [661/1500], Training Loss: 0.0168, Validation Loss: 0.0197, Accuracy: 99.78%\n"
     ]
    },
    {
     "ename": "KeyboardInterrupt",
     "evalue": "",
     "output_type": "error",
     "traceback": [
      "\u001b[1;31m---------------------------------------------------------------------------\u001b[0m",
      "\u001b[1;31mKeyboardInterrupt\u001b[0m                         Traceback (most recent call last)",
      "Cell \u001b[1;32mIn[6], line 1\u001b[0m\n\u001b[1;32m----> 1\u001b[0m trainer\u001b[39m.\u001b[39;49mtrain()\n",
      "File \u001b[1;32mc:\\Users\\glori\\GitHub\\Bearing-Fault-Diagnosis-with-Few-Shot-Learning-PyTorch\\train.py:31\u001b[0m, in \u001b[0;36msiamese_trainer.train\u001b[1;34m(self)\u001b[0m\n\u001b[0;32m     29\u001b[0m x1, x2, y \u001b[39m=\u001b[39m x1\u001b[39m.\u001b[39mto(\u001b[39mself\u001b[39m\u001b[39m.\u001b[39mdevice), x2\u001b[39m.\u001b[39mto(\u001b[39mself\u001b[39m\u001b[39m.\u001b[39mdevice), y\u001b[39m.\u001b[39mto(\u001b[39mself\u001b[39m\u001b[39m.\u001b[39mdevice)\n\u001b[0;32m     30\u001b[0m \u001b[39mself\u001b[39m\u001b[39m.\u001b[39moptimizer\u001b[39m.\u001b[39mzero_grad()\n\u001b[1;32m---> 31\u001b[0m output \u001b[39m=\u001b[39m \u001b[39mself\u001b[39;49m\u001b[39m.\u001b[39;49mmodel(x1, x2)\n\u001b[0;32m     32\u001b[0m loss \u001b[39m=\u001b[39m \u001b[39mself\u001b[39m\u001b[39m.\u001b[39mcriterion(output\u001b[39m.\u001b[39msqueeze(\u001b[39m1\u001b[39m), y)\n\u001b[0;32m     33\u001b[0m loss\u001b[39m.\u001b[39mbackward()\n",
      "File \u001b[1;32mc:\\Users\\glori\\miniconda3\\lib\\site-packages\\torch\\nn\\modules\\module.py:1194\u001b[0m, in \u001b[0;36mModule._call_impl\u001b[1;34m(self, *input, **kwargs)\u001b[0m\n\u001b[0;32m   1190\u001b[0m \u001b[39m# If we don't have any hooks, we want to skip the rest of the logic in\u001b[39;00m\n\u001b[0;32m   1191\u001b[0m \u001b[39m# this function, and just call forward.\u001b[39;00m\n\u001b[0;32m   1192\u001b[0m \u001b[39mif\u001b[39;00m \u001b[39mnot\u001b[39;00m (\u001b[39mself\u001b[39m\u001b[39m.\u001b[39m_backward_hooks \u001b[39mor\u001b[39;00m \u001b[39mself\u001b[39m\u001b[39m.\u001b[39m_forward_hooks \u001b[39mor\u001b[39;00m \u001b[39mself\u001b[39m\u001b[39m.\u001b[39m_forward_pre_hooks \u001b[39mor\u001b[39;00m _global_backward_hooks\n\u001b[0;32m   1193\u001b[0m         \u001b[39mor\u001b[39;00m _global_forward_hooks \u001b[39mor\u001b[39;00m _global_forward_pre_hooks):\n\u001b[1;32m-> 1194\u001b[0m     \u001b[39mreturn\u001b[39;00m forward_call(\u001b[39m*\u001b[39m\u001b[39minput\u001b[39m, \u001b[39m*\u001b[39m\u001b[39m*\u001b[39mkwargs)\n\u001b[0;32m   1195\u001b[0m \u001b[39m# Do not call functions when jit is used\u001b[39;00m\n\u001b[0;32m   1196\u001b[0m full_backward_hooks, non_full_backward_hooks \u001b[39m=\u001b[39m [], []\n",
      "File \u001b[1;32mc:\\Users\\glori\\GitHub\\Bearing-Fault-Diagnosis-with-Few-Shot-Learning-PyTorch\\models.py:99\u001b[0m, in \u001b[0;36mSiameseNet2.forward\u001b[1;34m(self, x1, x2)\u001b[0m\n\u001b[0;32m     97\u001b[0m \u001b[39mdef\u001b[39;00m \u001b[39mforward\u001b[39m(\u001b[39mself\u001b[39m, x1, x2):\n\u001b[0;32m     98\u001b[0m     encoded_l \u001b[39m=\u001b[39m \u001b[39mself\u001b[39m\u001b[39m.\u001b[39mconvnet(x1)\n\u001b[1;32m---> 99\u001b[0m     encoded_r \u001b[39m=\u001b[39m \u001b[39mself\u001b[39;49m\u001b[39m.\u001b[39;49mconvnet(x2)\n\u001b[0;32m    101\u001b[0m     L1_distance \u001b[39m=\u001b[39m \u001b[39mself\u001b[39m\u001b[39m.\u001b[39ml1_layer([encoded_l, encoded_r])\n\u001b[0;32m    102\u001b[0m     D1_layer \u001b[39m=\u001b[39m \u001b[39mself\u001b[39m\u001b[39m.\u001b[39mdropout(L1_distance)\n",
      "File \u001b[1;32mc:\\Users\\glori\\miniconda3\\lib\\site-packages\\torch\\nn\\modules\\module.py:1194\u001b[0m, in \u001b[0;36mModule._call_impl\u001b[1;34m(self, *input, **kwargs)\u001b[0m\n\u001b[0;32m   1190\u001b[0m \u001b[39m# If we don't have any hooks, we want to skip the rest of the logic in\u001b[39;00m\n\u001b[0;32m   1191\u001b[0m \u001b[39m# this function, and just call forward.\u001b[39;00m\n\u001b[0;32m   1192\u001b[0m \u001b[39mif\u001b[39;00m \u001b[39mnot\u001b[39;00m (\u001b[39mself\u001b[39m\u001b[39m.\u001b[39m_backward_hooks \u001b[39mor\u001b[39;00m \u001b[39mself\u001b[39m\u001b[39m.\u001b[39m_forward_hooks \u001b[39mor\u001b[39;00m \u001b[39mself\u001b[39m\u001b[39m.\u001b[39m_forward_pre_hooks \u001b[39mor\u001b[39;00m _global_backward_hooks\n\u001b[0;32m   1193\u001b[0m         \u001b[39mor\u001b[39;00m _global_forward_hooks \u001b[39mor\u001b[39;00m _global_forward_pre_hooks):\n\u001b[1;32m-> 1194\u001b[0m     \u001b[39mreturn\u001b[39;00m forward_call(\u001b[39m*\u001b[39m\u001b[39minput\u001b[39m, \u001b[39m*\u001b[39m\u001b[39m*\u001b[39mkwargs)\n\u001b[0;32m   1195\u001b[0m \u001b[39m# Do not call functions when jit is used\u001b[39;00m\n\u001b[0;32m   1196\u001b[0m full_backward_hooks, non_full_backward_hooks \u001b[39m=\u001b[39m [], []\n",
      "File \u001b[1;32mc:\\Users\\glori\\miniconda3\\lib\\site-packages\\torch\\nn\\modules\\container.py:204\u001b[0m, in \u001b[0;36mSequential.forward\u001b[1;34m(self, input)\u001b[0m\n\u001b[0;32m    202\u001b[0m \u001b[39mdef\u001b[39;00m \u001b[39mforward\u001b[39m(\u001b[39mself\u001b[39m, \u001b[39minput\u001b[39m):\n\u001b[0;32m    203\u001b[0m     \u001b[39mfor\u001b[39;00m module \u001b[39min\u001b[39;00m \u001b[39mself\u001b[39m:\n\u001b[1;32m--> 204\u001b[0m         \u001b[39minput\u001b[39m \u001b[39m=\u001b[39m module(\u001b[39minput\u001b[39;49m)\n\u001b[0;32m    205\u001b[0m     \u001b[39mreturn\u001b[39;00m \u001b[39minput\u001b[39m\n",
      "File \u001b[1;32mc:\\Users\\glori\\miniconda3\\lib\\site-packages\\torch\\nn\\modules\\module.py:1194\u001b[0m, in \u001b[0;36mModule._call_impl\u001b[1;34m(self, *input, **kwargs)\u001b[0m\n\u001b[0;32m   1190\u001b[0m \u001b[39m# If we don't have any hooks, we want to skip the rest of the logic in\u001b[39;00m\n\u001b[0;32m   1191\u001b[0m \u001b[39m# this function, and just call forward.\u001b[39;00m\n\u001b[0;32m   1192\u001b[0m \u001b[39mif\u001b[39;00m \u001b[39mnot\u001b[39;00m (\u001b[39mself\u001b[39m\u001b[39m.\u001b[39m_backward_hooks \u001b[39mor\u001b[39;00m \u001b[39mself\u001b[39m\u001b[39m.\u001b[39m_forward_hooks \u001b[39mor\u001b[39;00m \u001b[39mself\u001b[39m\u001b[39m.\u001b[39m_forward_pre_hooks \u001b[39mor\u001b[39;00m _global_backward_hooks\n\u001b[0;32m   1193\u001b[0m         \u001b[39mor\u001b[39;00m _global_forward_hooks \u001b[39mor\u001b[39;00m _global_forward_pre_hooks):\n\u001b[1;32m-> 1194\u001b[0m     \u001b[39mreturn\u001b[39;00m forward_call(\u001b[39m*\u001b[39m\u001b[39minput\u001b[39m, \u001b[39m*\u001b[39m\u001b[39m*\u001b[39mkwargs)\n\u001b[0;32m   1195\u001b[0m \u001b[39m# Do not call functions when jit is used\u001b[39;00m\n\u001b[0;32m   1196\u001b[0m full_backward_hooks, non_full_backward_hooks \u001b[39m=\u001b[39m [], []\n",
      "File \u001b[1;32mc:\\Users\\glori\\miniconda3\\lib\\site-packages\\torch\\nn\\modules\\conv.py:313\u001b[0m, in \u001b[0;36mConv1d.forward\u001b[1;34m(self, input)\u001b[0m\n\u001b[0;32m    312\u001b[0m \u001b[39mdef\u001b[39;00m \u001b[39mforward\u001b[39m(\u001b[39mself\u001b[39m, \u001b[39minput\u001b[39m: Tensor) \u001b[39m-\u001b[39m\u001b[39m>\u001b[39m Tensor:\n\u001b[1;32m--> 313\u001b[0m     \u001b[39mreturn\u001b[39;00m \u001b[39mself\u001b[39;49m\u001b[39m.\u001b[39;49m_conv_forward(\u001b[39minput\u001b[39;49m, \u001b[39mself\u001b[39;49m\u001b[39m.\u001b[39;49mweight, \u001b[39mself\u001b[39;49m\u001b[39m.\u001b[39;49mbias)\n",
      "File \u001b[1;32mc:\\Users\\glori\\miniconda3\\lib\\site-packages\\torch\\nn\\modules\\conv.py:309\u001b[0m, in \u001b[0;36mConv1d._conv_forward\u001b[1;34m(self, input, weight, bias)\u001b[0m\n\u001b[0;32m    305\u001b[0m \u001b[39mif\u001b[39;00m \u001b[39mself\u001b[39m\u001b[39m.\u001b[39mpadding_mode \u001b[39m!=\u001b[39m \u001b[39m'\u001b[39m\u001b[39mzeros\u001b[39m\u001b[39m'\u001b[39m:\n\u001b[0;32m    306\u001b[0m     \u001b[39mreturn\u001b[39;00m F\u001b[39m.\u001b[39mconv1d(F\u001b[39m.\u001b[39mpad(\u001b[39minput\u001b[39m, \u001b[39mself\u001b[39m\u001b[39m.\u001b[39m_reversed_padding_repeated_twice, mode\u001b[39m=\u001b[39m\u001b[39mself\u001b[39m\u001b[39m.\u001b[39mpadding_mode),\n\u001b[0;32m    307\u001b[0m                     weight, bias, \u001b[39mself\u001b[39m\u001b[39m.\u001b[39mstride,\n\u001b[0;32m    308\u001b[0m                     _single(\u001b[39m0\u001b[39m), \u001b[39mself\u001b[39m\u001b[39m.\u001b[39mdilation, \u001b[39mself\u001b[39m\u001b[39m.\u001b[39mgroups)\n\u001b[1;32m--> 309\u001b[0m \u001b[39mreturn\u001b[39;00m F\u001b[39m.\u001b[39;49mconv1d(\u001b[39minput\u001b[39;49m, weight, bias, \u001b[39mself\u001b[39;49m\u001b[39m.\u001b[39;49mstride,\n\u001b[0;32m    310\u001b[0m                 \u001b[39mself\u001b[39;49m\u001b[39m.\u001b[39;49mpadding, \u001b[39mself\u001b[39;49m\u001b[39m.\u001b[39;49mdilation, \u001b[39mself\u001b[39;49m\u001b[39m.\u001b[39;49mgroups)\n",
      "\u001b[1;31mKeyboardInterrupt\u001b[0m: "
     ]
    }
   ],
   "source": [
    "trainer.train()"
   ]
  },
  {
   "cell_type": "code",
   "execution_count": null,
   "metadata": {},
   "outputs": [],
   "source": []
  }
 ],
 "metadata": {
  "kernelspec": {
   "display_name": "base",
   "language": "python",
   "name": "python3"
  },
  "language_info": {
   "codemirror_mode": {
    "name": "ipython",
    "version": 3
   },
   "file_extension": ".py",
   "mimetype": "text/x-python",
   "name": "python",
   "nbconvert_exporter": "python",
   "pygments_lexer": "ipython3",
   "version": "3.9.12"
  },
  "orig_nbformat": 4,
  "vscode": {
   "interpreter": {
    "hash": "f1b88a2ab8ffc76ca6c3b3024dd67d30145f84351315ca22677786462d73cfd5"
   }
  }
 },
 "nbformat": 4,
 "nbformat_minor": 2
}
